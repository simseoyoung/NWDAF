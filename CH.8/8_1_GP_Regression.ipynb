{
  "cells": [
    {
      "cell_type": "markdown",
      "metadata": {
        "id": "view-in-github",
        "colab_type": "text"
      },
      "source": [
        "<a href=\"https://colab.research.google.com/github/simseoyoung/NWDAF/blob/main/CH.8/8_1_GP_Regression.ipynb\" target=\"_parent\"><img src=\"https://colab.research.google.com/assets/colab-badge.svg\" alt=\"Open In Colab\"/></a>"
      ]
    },
    {
      "cell_type": "markdown",
      "metadata": {
        "id": "aUKdc8WF0P0O"
      },
      "source": [
        "# Gaussian Process Regression \n",
        "\n"
      ]
    },
    {
      "cell_type": "code",
      "execution_count": 1,
      "metadata": {
        "colab": {
          "base_uri": "https://localhost:8080/"
        },
        "id": "i45pQzfP0P0X",
        "outputId": "6f486b21-7851-4f97-fac9-e43a3b84b7f5"
      },
      "outputs": [
        {
          "output_type": "stream",
          "name": "stdout",
          "text": [
            "Looking in indexes: https://pypi.org/simple, https://us-python.pkg.dev/colab-wheels/public/simple/\n",
            "Collecting gpytorch\n",
            "  Downloading gpytorch-1.6.0.tar.gz (310 kB)\n",
            "\u001b[K     |████████████████████████████████| 310 kB 5.0 MB/s \n",
            "\u001b[?25hBuilding wheels for collected packages: gpytorch\n",
            "  Building wheel for gpytorch (setup.py) ... \u001b[?25l\u001b[?25hdone\n",
            "  Created wheel for gpytorch: filename=gpytorch-1.6.0-py2.py3-none-any.whl size=509889 sha256=7d88c577290abbe3ef75164127f58443b4d39794c01f4f25f8f1d096e1816f04\n",
            "  Stored in directory: /root/.cache/pip/wheels/66/b5/89/34c06ad393a6feb72b4cdde46d0f1c667f3e2632960f9df109\n",
            "Successfully built gpytorch\n",
            "Installing collected packages: gpytorch\n",
            "Successfully installed gpytorch-1.6.0\n"
          ]
        }
      ],
      "source": [
        "!pip install gpytorch\n",
        "import math\n",
        "import torch\n",
        "import gpytorch #pytorch에서 제공하는 gpregression\n",
        "from matplotlib import pyplot as plt\n",
        "import numpy as np"
      ]
    },
    {
      "cell_type": "markdown",
      "metadata": {
        "id": "hVsFNlDV0P0b"
      },
      "source": [
        "### Data"
      ]
    },
    {
      "cell_type": "markdown",
      "metadata": {
        "id": "Mv8tMRxZ0P0d"
      },
      "source": [
        "-Sin함수를 Generator Function으로 하는 데이터셋을 생성한다  \n",
        "-데이터셋도 Gaussian Distribution을 따르도록 생성한다\n",
        "\n",
        "\\begin{align}\n",
        "y &= \\sin(2\\pi x) + \\epsilon \\\\\n",
        "  \\epsilon &\\sim \\mathcal{N}(0, 0.04) \n",
        "\\end{align}\n",
        "\n"
      ]
    },
    {
      "cell_type": "code",
      "execution_count": 2,
      "metadata": {
        "colab": {
          "base_uri": "https://localhost:8080/"
        },
        "id": "nvp6tUaW0P0e",
        "outputId": "5f39f26e-cb9a-4ca2-bb3e-86e4c3fa1ed9"
      },
      "outputs": [
        {
          "output_type": "stream",
          "name": "stdout",
          "text": [
            "torch.Size([100])\n"
          ]
        },
        {
          "output_type": "execute_result",
          "data": {
            "text/plain": [
              "tensor([0.0000, 0.0101, 0.0202, 0.0303, 0.0404, 0.0505, 0.0606, 0.0707, 0.0808,\n",
              "        0.0909, 0.1010, 0.1111, 0.1212, 0.1313, 0.1414, 0.1515, 0.1616, 0.1717,\n",
              "        0.1818, 0.1919, 0.2020, 0.2121, 0.2222, 0.2323, 0.2424, 0.2525, 0.2626,\n",
              "        0.2727, 0.2828, 0.2929, 0.3030, 0.3131, 0.3232, 0.3333, 0.3434, 0.3535,\n",
              "        0.3636, 0.3737, 0.3838, 0.3939, 0.4040, 0.4141, 0.4242, 0.4343, 0.4444,\n",
              "        0.4545, 0.4646, 0.4747, 0.4848, 0.4949, 0.5051, 0.5152, 0.5253, 0.5354,\n",
              "        0.5455, 0.5556, 0.5657, 0.5758, 0.5859, 0.5960, 0.6061, 0.6162, 0.6263,\n",
              "        0.6364, 0.6465, 0.6566, 0.6667, 0.6768, 0.6869, 0.6970, 0.7071, 0.7172,\n",
              "        0.7273, 0.7374, 0.7475, 0.7576, 0.7677, 0.7778, 0.7879, 0.7980, 0.8081,\n",
              "        0.8182, 0.8283, 0.8384, 0.8485, 0.8586, 0.8687, 0.8788, 0.8889, 0.8990,\n",
              "        0.9091, 0.9192, 0.9293, 0.9394, 0.9495, 0.9596, 0.9697, 0.9798, 0.9899,\n",
              "        1.0000])"
            ]
          },
          "metadata": {},
          "execution_count": 2
        }
      ],
      "source": [
        "torch.manual_seed(1111) # 랜덤시드 적용할 셀에 입력\n",
        "train_x = torch.linspace(0,1, 100)  # 0~1사이 수를 100등분\n",
        "print(train_x.size())\n",
        "train_x                                                          "
      ]
    },
    {
      "cell_type": "code",
      "execution_count": 3,
      "metadata": {
        "colab": {
          "base_uri": "https://localhost:8080/"
        },
        "id": "7YcvD7WI0P0h",
        "outputId": "d8c29cbc-2283-4d77-fee7-9a6fd622192b"
      },
      "outputs": [
        {
          "output_type": "execute_result",
          "data": {
            "text/plain": [
              "torch.Size([100])"
            ]
          },
          "metadata": {},
          "execution_count": 3
        }
      ],
      "source": [
        "train_y = torch.sin(train_x*(2*math.pi)) + torch.randn(train_x.size())*math.sqrt(0.04) # 가우시안 노이즈 추가\n",
        "train_y.shape"
      ]
    },
    {
      "cell_type": "code",
      "execution_count": 4,
      "metadata": {
        "colab": {
          "base_uri": "https://localhost:8080/",
          "height": 265
        },
        "id": "FVKxPLce0P0j",
        "outputId": "33084f5b-7033-4b2e-8af5-43a3fd605dac"
      },
      "outputs": [
        {
          "output_type": "display_data",
          "data": {
            "text/plain": [
              "<Figure size 432x288 with 1 Axes>"
            ],
            "image/png": "[encoded data removed]"
          },
          "metadata": {
            "needs_background": "light"
          }
        }
      ],
      "source": [
        "plt.scatter(train_x, train_y)\n",
        "plt.show()  "
      ]
    },
    {
      "cell_type": "markdown",
      "metadata": {
        "id": "JHeKGoWh0P0l"
      },
      "source": [
        "## Model"
      ]
    },
    {
      "cell_type": "markdown",
      "metadata": {
        "id": "ndA_7wG50P0n"
      },
      "source": [
        "### GP 관련 함수들\n",
        "\n",
        "1.  **GP Model** (`gpytorch.models.ExactGP`)\n",
        "1.  **Likelihood** (`gpytorch.likelihoods.GaussianLikelihood`)\n",
        "1.  **Mean** - `gpytorch.means.ConstantMean()` \n",
        "1.  **Kernel** - `gpytorch.kernels.ScaleKernel(gpytorch.kernels.RBFKernel())` \n",
        "1.  **MultivariateNormal** (`gpytorch.distributions.MultivariateNormal`)\n",
        "  "
      ]
    },
    {
      "cell_type": "code",
      "execution_count": 7,
      "metadata": {
        "id": "RihWxWNS0P0p"
      },
      "outputs": [],
      "source": [
        "\n",
        "class ExactGPModel(gpytorch.models.ExactGP):\n",
        "    def __init__(self, train_x, train_y, likelihood):\n",
        "        super(ExactGPModel, self).__init__(train_x, train_y, likelihood)\n",
        "        self.mean_module = gpytorch.means.ConstantMean() # mean값 구하는 module\n",
        "        self.covar_module = gpytorch.kernels.ScaleKernel(gpytorch.kernels.RBFKernel())\n",
        "        # Gaussian kernel가져와서 사용\n",
        "\n",
        "    def forward(self, x):\n",
        "        mean_x = self.mean_module(x)\n",
        "        covar_x = self.covar_module(x)\n",
        "        distribution = gpytorch.distributions.MultivariateNormal(mean_x, covar_x)\n",
        "        return distribution\n",
        "    "
      ]
    },
    {
      "cell_type": "code",
      "execution_count": 6,
      "metadata": {
        "id": "KWxfEDQA0P0-"
      },
      "outputs": [],
      "source": [
        "likelihood = gpytorch.likelihoods.GaussianLikelihood()\n",
        "model = ExactGPModel(train_x, train_y, likelihood) # GP 모델 선언\n",
        "optimizer = torch.optim.Adam(model.parameters(), lr=0.1)"
      ]
    },
    {
      "cell_type": "code",
      "execution_count": 8,
      "metadata": {
        "id": "X-NpoyM60P0_"
      },
      "outputs": [],
      "source": [
        "# GP의 loss 역할(최적화 방향성의 지표) - Marginal Log Likelihood\n",
        "mll = gpytorch.mlls.ExactMarginalLogLikelihood(likelihood, model)"
      ]
    },
    {
      "cell_type": "markdown",
      "metadata": {
        "id": "TyDqchYs0P1B"
      },
      "source": [
        "## Training\n"
      ]
    },
    {
      "cell_type": "code",
      "execution_count": 9,
      "metadata": {
        "scrolled": false,
        "colab": {
          "base_uri": "https://localhost:8080/"
        },
        "id": "kIH7YwUU0P1B",
        "outputId": "cff63771-9ea4-4260-bf4d-e19b367d15e4"
      },
      "outputs": [
        {
          "output_type": "stream",
          "name": "stdout",
          "text": [
            "Iter 1/20 - Loss: 0.936   lengthscale: 0.644   noise: 0.644\n",
            "Iter 2/20 - Loss: 0.904   lengthscale: 0.598   noise: 0.598\n",
            "Iter 3/20 - Loss: 0.870   lengthscale: 0.555   noise: 0.554\n",
            "Iter 4/20 - Loss: 0.833   lengthscale: 0.514   noise: 0.513\n",
            "Iter 5/20 - Loss: 0.790   lengthscale: 0.475   noise: 0.474\n",
            "Iter 6/20 - Loss: 0.743   lengthscale: 0.439   noise: 0.437\n",
            "Iter 7/20 - Loss: 0.693   lengthscale: 0.404   noise: 0.402\n",
            "Iter 8/20 - Loss: 0.642   lengthscale: 0.372   noise: 0.369\n",
            "Iter 9/20 - Loss: 0.593   lengthscale: 0.342   noise: 0.339\n",
            "Iter 10/20 - Loss: 0.548   lengthscale: 0.315   noise: 0.310\n",
            "Iter 11/20 - Loss: 0.508   lengthscale: 0.292   noise: 0.284\n",
            "Iter 12/20 - Loss: 0.470   lengthscale: 0.272   noise: 0.259\n",
            "Iter 13/20 - Loss: 0.435   lengthscale: 0.256   noise: 0.237\n",
            "Iter 14/20 - Loss: 0.401   lengthscale: 0.243   noise: 0.216\n",
            "Iter 15/20 - Loss: 0.368   lengthscale: 0.233   noise: 0.196\n",
            "Iter 16/20 - Loss: 0.335   lengthscale: 0.225   noise: 0.179\n",
            "Iter 17/20 - Loss: 0.303   lengthscale: 0.220   noise: 0.163\n",
            "Iter 18/20 - Loss: 0.271   lengthscale: 0.217   noise: 0.148\n",
            "Iter 19/20 - Loss: 0.239   lengthscale: 0.215   noise: 0.134\n",
            "Iter 20/20 - Loss: 0.208   lengthscale: 0.215   noise: 0.122\n"
          ]
        },
        {
          "output_type": "stream",
          "name": "stderr",
          "text": [
            "/usr/local/lib/python3.7/dist-packages/gpytorch/lazy/triangular_lazy_tensor.py:130: UserWarning: torch.triangular_solve is deprecated in favor of torch.linalg.solve_triangularand will be removed in a future PyTorch release.\n",
            "torch.linalg.solve_triangular has its arguments reversed and does not return a copy of one of the inputs.\n",
            "X = torch.triangular_solve(B, A).solution\n",
            "should be replaced with\n",
            "X = torch.linalg.solve_triangular(A, B). (Triggered internally at  ../aten/src/ATen/native/BatchLinearAlgebra.cpp:1672.)\n",
            "  res = torch.triangular_solve(right_tensor, self.evaluate(), upper=self.upper).solution\n"
          ]
        }
      ],
      "source": [
        "epoch = 20\n",
        "\n",
        "model.train()\n",
        "likelihood.train()\n",
        "\n",
        "for i in range(epoch):\n",
        "    optimizer.zero_grad()\n",
        "\n",
        "    output = model(train_x)\n",
        "    loss = -mll(output, train_y)\n",
        "    loss.backward()\n",
        "    optimizer.step()\n",
        "    \n",
        "    print('Iter %d/%d - Loss: %.3f   lengthscale: %.3f   noise: %.3f' % (\n",
        "        i + 1, epoch, loss.item(),\n",
        "        model.covar_module.base_kernel.lengthscale.item(),\n",
        "        model.likelihood.noise.item()))\n",
        "    "
      ]
    },
    {
      "cell_type": "markdown",
      "metadata": {
        "id": "1lfhKOF90P1D"
      },
      "source": [
        "## Prediction"
      ]
    },
    {
      "cell_type": "code",
      "execution_count": 15,
      "metadata": {
        "id": "StCYSwj10P1E"
      },
      "outputs": [],
      "source": [
        "model.eval()\n",
        "likelihood.eval()\n",
        "\n",
        "# TEST Mode \n",
        "with torch.no_grad(), gpytorch.settings.fast_pred_var():\n",
        "    test_x = torch.linspace(0, 3, 51) \n",
        "    #외삽 확인시 Train 범위 이상의 값을 입력\n",
        "    #0-1 사이의 값으로 지정했으므로 확인하고 싶으면 1 이상의 값을 넣어주면 됨\n",
        "    observed_pred = likelihood(model(test_x))    "
      ]
    },
    {
      "cell_type": "markdown",
      "metadata": {
        "id": "03WHN8yW0P1J"
      },
      "source": [
        "## Result\n",
        "-Confidence boundary 확인"
      ]
    },
    {
      "cell_type": "code",
      "execution_count": 16,
      "metadata": {
        "scrolled": false,
        "colab": {
          "base_uri": "https://localhost:8080/",
          "height": 343
        },
        "id": "U82cRe5F0P1K",
        "outputId": "b3705d5b-03c4-4343-c446-af6fdb84bd9b"
      },
      "outputs": [
        {
          "output_type": "execute_result",
          "data": {
            "text/plain": [
              "<matplotlib.legend.Legend at 0x7ff83c3f24d0>"
            ]
          },
          "metadata": {},
          "execution_count": 16
        },
        {
          "output_type": "display_data",
          "data": {
            "text/plain": [
              "<Figure size 576x360 with 1 Axes>"
            ],
            "image/png": "[encoded data removed]"
          },
          "metadata": {
            "needs_background": "light"
          }
        }
      ],
      "source": [
        "f, ax = plt.subplots(1, 1, figsize=(8, 5))\n",
        "lower, upper = observed_pred.confidence_region()\n",
        "ax.plot(train_x.numpy(), train_y.numpy(), 'k*')\n",
        "ax.plot(test_x.numpy(), observed_pred.mean.numpy(), 'b')\n",
        "\n",
        "# Confidence bound (boundary를 색칠함)\n",
        "ax.fill_between(test_x.numpy(), lower.numpy(), upper.numpy(), alpha=0.3)\n",
        "ax.set_ylim([-3, 3])# y값의 범위를 [-3, 3]\n",
        "\n",
        "ax.legend(['Observed Data', 'Mean', 'Confidence'])\n",
        "# GP의 장점으로 confidence boundary를 확인하면 알 수 있듯이 train data가 없는 범위에서 어느정도의 confidence를 갖는지 확인 가능함\n",
        "# 아래 그래프 상으로 observed data가 있는 부분의 뒷부분 \n"
      ]
    },
    {
      "cell_type": "markdown",
      "metadata": {
        "id": "1lRlj7ja0P1L"
      },
      "source": [
        "[Reference](https://github.com/cornellius-gp/gpytorch/tree/master/examples)"
      ]
    }
  ],
  "metadata": {
    "anaconda-cloud": {},
    "kernelspec": {
      "display_name": "Python 3",
      "language": "python",
      "name": "python3"
    },
    "language_info": {
      "codemirror_mode": {
        "name": "ipython",
        "version": 3
      },
      "file_extension": ".py",
      "mimetype": "text/x-python",
      "name": "python",
      "nbconvert_exporter": "python",
      "pygments_lexer": "ipython3",
      "version": "3.7.6"
    },
    "colab": {
      "name": "Chap08-1)_GP_Regression.ipynb",
      "provenance": [],
      "include_colab_link": true
    }
  },
  "nbformat": 4,
  "nbformat_minor": 0
}